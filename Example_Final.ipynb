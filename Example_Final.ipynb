{
 "cells": [
  {
   "cell_type": "code",
   "execution_count": 1,
   "metadata": {},
   "outputs": [],
   "source": [
    "import numpy as np\n",
    "import cv2 \n",
    "import matplotlib.pylab\n",
    "import io\n",
    "import os"
   ]
  },
  {
   "cell_type": "code",
   "execution_count": 2,
   "metadata": {},
   "outputs": [],
   "source": [
    "def augmented_image(frame,im_src, pts_src, pts_dst):\n",
    "    \n",
    "    # Calculate Homography\n",
    "    h, status = cv2.findHomography(pts_src, pts_dst)\n",
    "\n",
    "    # Warp source image to destination based on homography\n",
    "    warped_image = cv2.warpPerspective(im_src, h, (frame.shape[1],frame.shape[0]))\n",
    "            \n",
    "    # Prepare a mask representing region to copy from the warped image into the original frame.\n",
    "    mask = np.zeros([frame.shape[0], frame.shape[1]], dtype=np.uint8)\n",
    "    cv2.fillConvexPoly(mask, np.int32(pts_dst), (255, 255, 255), cv2.LINE_AA)\n",
    "    im_out = cv2.add(frame, warped_image, mask=cv2.bitwise_not(mask))\n",
    "    im_out = cv2.add(im_out, warped_image)\n",
    "    \n",
    "    return im_out"
   ]
  },
  {
   "cell_type": "code",
   "execution_count": 3,
   "metadata": {},
   "outputs": [],
   "source": [
    "params_dir = os.getcwd()+'/camera_params/monocular_camera_params/'\n",
    "\n",
    "#load camera parameters\n",
    "K = np.load(params_dir+'K.npy')\n",
    "dist = np.load(params_dir+'dist.npy')"
   ]
  },
  {
   "cell_type": "code",
   "execution_count": 4,
   "metadata": {},
   "outputs": [],
   "source": [
    "AruCo_dict = cv2.aruco.Dictionary_get(cv2.aruco.DICT_4X4_1000)\n",
    "AruCo_params = cv2.aruco.DetectorParameters_create()\n",
    "board = cv2.aruco.GridBoard_create(3, 4, 0.05, 0.0075, AruCo_dict)"
   ]
  },
  {
   "cell_type": "code",
   "execution_count": 5,
   "metadata": {},
   "outputs": [],
   "source": [
    "def draw_axis(img, corners, imgpts) :\n",
    "    corner = tuple(corners[0].ravel().astype(int))\n",
    "    img = cv2.line(img, corner, tuple(imgpts[0].ravel().astype(int)), (255,0,0), 10)\n",
    "    img = cv2.line(img, corner, tuple(imgpts[1].ravel().astype(int)), (0,255,0), 10)\n",
    "    img = cv2.line(img, corner, tuple(imgpts[2].ravel().astype(int)), (0,0,255), 10)\n",
    "    return img"
   ]
  },
  {
   "cell_type": "code",
   "execution_count": 6,
   "metadata": {},
   "outputs": [],
   "source": [
    "def write_text(img, pose, dy, text) :\n",
    "    x0 = pose[0]\n",
    "    y0 = pose[1]\n",
    "    for i, line in enumerate(text.split('\\n')) :\n",
    "        y = y0 + i*dy\n",
    "        cv2.putText(img, line, np.int32([x0, y]), cv2.FONT_HERSHEY_COMPLEX, 0.75, (50,200,255), 2)"
   ]
  },
  {
   "cell_type": "code",
   "execution_count": 9,
   "metadata": {},
   "outputs": [],
   "source": [
    "vid = cv2.VideoCapture('./Forder Final/left_output-1.avi') #การเปิดวีดีโอหนังสือเคลื่อนที่\n",
    "template_img = cv2.imread('./Forder Final/Template-1.png') #การเปิดภาพหนังสือ\n",
    "template_gray = cv2.cvtColor(template_img, cv2.COLOR_BGR2GRAY)\n",
    "\n",
    "sift = cv2.SIFT_create()\n",
    "bf = cv2.BFMatcher()\n",
    "\n",
    "while vid.isOpened() :\n",
    "    ret, frame = vid.read()\n",
    "    im_src = cv2.imread('./images/newqr.jpg') #ภาพที่จะนำมาแทรกภาพตรงกลาง \n",
    "    im_src_size = im_src.shape[:2]\n",
    "    src_points = np.float32([[0,0], [im_src_size[1],0],[im_src_size[1], im_src_size[0]] ,[0, im_src_size[0]] ])\n",
    "    \n",
    "    if ret :\n",
    "        query = frame\n",
    "        query_gray = cv2.cvtColor(query, cv2.COLOR_BGR2GRAY)\n",
    "\n",
    "        template_kpts, template_desc = sift.detectAndCompute(template_gray, None)\n",
    "        query_kpts, query_desc = sift.detectAndCompute(query_gray, None)\n",
    "        matches = bf.knnMatch(template_desc, query_desc, k=2)\n",
    "        good_matches = list()\n",
    "        good_matches_list = list()\n",
    "        for m, n in matches :\n",
    "            if m.distance < 0.7*n.distance :\n",
    "                good_matches.append(m)\n",
    "                good_matches_list.append([m])\n",
    "        \n",
    "        if len(good_matches) > 10 :\n",
    "            src_pts = np.float32([ template_kpts[m.queryIdx].pt for m in good_matches ]).reshape(-1,1,2)\n",
    "            dst_pts = np.float32([ query_kpts[m.trainIdx].pt for m in good_matches ]).reshape(-1,1,2)\n",
    "\n",
    "            H, inlier_masks = cv2.findHomography(src_pts, dst_pts, cv2.RANSAC, 10.0) # H RANSAC\n",
    "            # get the bounding box around template image\n",
    "            h, w = template_img.shape[:2]\n",
    "            template_box = np.float32([[0, 0], [0, h-1], [w-1, h-1], [w-1, 0]]).reshape(-1,1,2)\n",
    "            transformed_box = cv2.perspectiveTransform(template_box, H)\n",
    "\n",
    "            detected_img = cv2.polylines(query, [np.int32(transformed_box)], True, (255,0,0), 3, cv2.LINE_AA)\n",
    "            drawmatch_img = cv2.drawMatchesKnn(template_img, template_kpts, detected_img, query_kpts, good_matches_list, None, flags=2, matchesMask=inlier_masks)\n",
    "\n",
    "            augmented = augmented_image(detected_img, im_src, src_points, transformed_box) #src หามุม\n",
    "\n",
    "            img = augmented.copy()\n",
    "        \n",
    "            markerCorners, markerIds, rejectedCandidates = cv2.aruco.detectMarkers( augmented, AruCo_dict, parameters = AruCo_params)\n",
    "            \n",
    "            if len(markerCorners) > 0:\n",
    "                img = cv2.aruco.drawDetectedMarkers(augmented, markerCorners)\n",
    "                rvecs, tvecs, points = cv2.aruco.estimatePoseSingleMarkers(markerCorners , 0.05, K, dist)\n",
    "                for (rvec, tvec, id, corner) in zip(rvecs, tvecs, markerIds, markerCorners) :\n",
    "                    img = cv2.aruco.drawAxis(augmented, K, dist, rvec, tvec, 0.05)\n",
    "                    x = tvec[0,0]\n",
    "                    y = tvec[0,1]\n",
    "                    z = tvec[0,2]\n",
    "                    text = \"id: {}\\n pose:\\n {:.3f}\\n {:.3f}\\n {:.3f}\".format(id, x, y, z)\n",
    "                    cX = (corner[0,0][0] + corner[0,2][0]) / 2\n",
    "                    cY = (corner[0,0][1] + corner[0,2][1]) / 2\n",
    "                    write_text(detected_img, (cX, cY), 20, text)\n",
    "                ret, brvec, btvec = cv2.aruco.estimatePoseBoard(markerCorners, markerIds, board, K, dist, rvecs, tvecs) \n",
    "                if ret :\n",
    "                    img = cv2.aruco.drawAxis(detected_img, K, dist, brvec, btvec, 0.05)\n",
    "\n",
    "        cv2.imshow('Video frame',detected_img)\n",
    "\n",
    "        if cv2.waitKey(int(1000/24)) & 0xFF == ord('q') : # this line control the period between image frame\n",
    "            break\n",
    "    else :\n",
    "        break\n",
    "vid.release()\n",
    "cv2.destroyAllWindows()"
   ]
  }
 ],
 "metadata": {
  "interpreter": {
   "hash": "a4be6cce438d79fb424773ae3fa8fedc6fc0360ff02ec6f021e7990f8b28e4e3"
  },
  "kernelspec": {
   "display_name": "Python 3.8.8 64-bit",
   "language": "python",
   "name": "python3"
  },
  "language_info": {
   "codemirror_mode": {
    "name": "ipython",
    "version": 3
   },
   "file_extension": ".py",
   "mimetype": "text/x-python",
   "name": "python",
   "nbconvert_exporter": "python",
   "pygments_lexer": "ipython3",
   "version": "3.8.8"
  },
  "orig_nbformat": 4
 },
 "nbformat": 4,
 "nbformat_minor": 2
}
